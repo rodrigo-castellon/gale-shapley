{
 "cells": [
  {
   "cell_type": "markdown",
   "metadata": {},
   "source": [
    "# Gale-Shapley Algorithm"
   ]
  },
  {
   "cell_type": "code",
   "execution_count": 1,
   "metadata": {},
   "outputs": [],
   "source": [
    "import numpy as np"
   ]
  },
  {
   "cell_type": "code",
   "execution_count": 2,
   "metadata": {},
   "outputs": [],
   "source": [
    "import matplotlib.pyplot as plt"
   ]
  },
  {
   "cell_type": "code",
   "execution_count": 3,
   "metadata": {},
   "outputs": [],
   "source": [
    "from matplotlib.ticker import MaxNLocator"
   ]
  },
  {
   "cell_type": "code",
   "execution_count": 4,
   "metadata": {},
   "outputs": [],
   "source": [
    "import time"
   ]
  },
  {
   "cell_type": "code",
   "execution_count": 5,
   "metadata": {},
   "outputs": [],
   "source": [
    "def gen_pref(n,m):\n",
    "    applicants = np.array([np.random.permutation(m) for x in range(n)])\n",
    "    colleges = np.array([np.random.permutation(n) for x in range(m)])\n",
    "    return applicants, colleges"
   ]
  },
  {
   "cell_type": "code",
   "execution_count": 6,
   "metadata": {},
   "outputs": [],
   "source": [
    "def find_best_applicants(college_p, applicants, q):\n",
    "    # given a preference of applicants `college_p` and the list of applicants `applicants`, return the best `q` ones\n",
    "    # could probably get a better vectorized implementation, but this suffices\n",
    "    indices = np.argsort([np.where(college_p == x)[0][0] for x in applicants])[:q]\n",
    "    return indices, np.array(applicants)[indices].astype('int')"
   ]
  },
  {
   "cell_type": "code",
   "execution_count": 7,
   "metadata": {},
   "outputs": [],
   "source": [
    "def flip_arr(arr):\n",
    "    # return a dict whose indices are the elements in `arr` and whose elements are the indices in `arr`\n",
    "    new_arr = {}\n",
    "    for i, x in enumerate(arr):\n",
    "        if not(x in new_arr.keys()):\n",
    "            new_arr[x] = [i]\n",
    "        else:\n",
    "            new_arr[x].append(i)\n",
    "    return new_arr"
   ]
  },
  {
   "cell_type": "code",
   "execution_count": 8,
   "metadata": {},
   "outputs": [],
   "source": [
    "def reject(applicant_prefs):\n",
    "    # given a 2D array of multiple applicants' preferences of colleges, reject their top choices\n",
    "    n = applicant_prefs.shape[0]\n",
    "    output = np.unique(np.where(applicant_prefs == -1)[0], return_counts=True)\n",
    "    indices = np.zeros(n, dtype=int)\n",
    "    indices[output[0]] = output[1]\n",
    "    applicant_prefs[np.arange(n), indices] = -1\n",
    "    return applicant_prefs"
   ]
  },
  {
   "cell_type": "code",
   "execution_count": 9,
   "metadata": {},
   "outputs": [],
   "source": [
    "def gale_shapley(applicant_pref, college_pref, q):\n",
    "    n = applicant_pref.shape[0]\n",
    "    m = applicant_pref.shape[1]\n",
    "    pairings = -1*np.ones((m, q), dtype='int') # flag values for all\n",
    "    round_num = 1\n",
    "    while True:\n",
    "        counts = np.unique(pairings, return_counts=True)\n",
    "        if not(-1 in counts[0]):\n",
    "            break\n",
    "        else:\n",
    "            print(round_num)\n",
    "            print('{} rejections...'.format(counts[1][np.where(counts[0] == -1)][0]))\n",
    "        # have all applicants apply to their top choice\n",
    "        # then, colleges defer their top offers and reject the rest\n",
    "        \n",
    "        # get all the top colleges\n",
    "        output = np.unique(np.where(applicant_pref == -1)[0], return_counts=True) # get how many -1s there are by row\n",
    "        indices = np.zeros(n, dtype=int)\n",
    "        indices[output[0]] = output[1]\n",
    "        colleges = applicant_pref[np.arange(applicant_pref.shape[0]), indices]\n",
    "        # this means that colleges[i] is the college applicant i applied to\n",
    "        \n",
    "        applications = flip_arr(colleges)\n",
    "        # application creates a mapping for college->applicants\n",
    "        for college, applicants in applications.items():\n",
    "            index, best_applicants = find_best_applicants(college_pref[college], applicants, q)\n",
    "            pairings[college,:best_applicants.shape[0]] = best_applicants\n",
    "            # now reject the others\n",
    "            applicants = np.delete(applicants, [np.where(applicants == x) for x in best_applicants])\n",
    "            applicant_pref[applicants] = reject(applicant_pref[applicants])\n",
    "        round_num += 1\n",
    "    return pairings"
   ]
  },
  {
   "cell_type": "code",
   "execution_count": 10,
   "metadata": {},
   "outputs": [],
   "source": [
    "def is_stable(guy_pref, girl_pref, couple_arrangement):\n",
    "    for girl, guy in enumerate(couple_arrangement):\n",
    "        preferred_guys = girl_pref[girl]\n",
    "        preferred_guys = preferred_guys[:np.where(preferred_guys == guy)[0][0]]\n",
    "        for guy in preferred_guys:\n",
    "            # if the guy prefers her too, then it's unstable\n",
    "            other_girl = np.where(couple_arrangement == guy)[0][0]\n",
    "            preferred_girls = guy_pref[guy]\n",
    "            preferred_girls = preferred_girls[:np.where(preferred_girls == other_girl)[0][0]]\n",
    "            if girl in preferred_girls:\n",
    "                return False\n",
    "    return True"
   ]
  },
  {
   "cell_type": "code",
   "execution_count": 11,
   "metadata": {},
   "outputs": [],
   "source": [
    "N, M = 80000, 700\n",
    "q = N//M"
   ]
  },
  {
   "cell_type": "code",
   "execution_count": 12,
   "metadata": {},
   "outputs": [],
   "source": [
    "applicant_pref, college_pref = gen_pref(N,M)\n",
    "orig_a = np.copy(applicant_pref)\n",
    "orig_c = np.copy(college_pref)"
   ]
  },
  {
   "cell_type": "code",
   "execution_count": 13,
   "metadata": {},
   "outputs": [
    {
     "name": "stdout",
     "output_type": "stream",
     "text": [
      "1\n",
      "79800 rejections...\n",
      "2\n",
      "2886 rejections...\n",
      "3\n",
      "1696 rejections...\n",
      "4\n",
      "1139 rejections...\n",
      "5\n",
      "891 rejections...\n",
      "6\n",
      "695 rejections...\n",
      "7\n",
      "575 rejections...\n",
      "8\n",
      "456 rejections...\n",
      "9\n",
      "391 rejections...\n",
      "10\n",
      "337 rejections...\n",
      "11\n",
      "293 rejections...\n",
      "12\n",
      "258 rejections...\n",
      "13\n",
      "219 rejections...\n",
      "14\n",
      "191 rejections...\n",
      "15\n",
      "173 rejections...\n",
      "16\n",
      "156 rejections...\n",
      "17\n",
      "141 rejections...\n",
      "18\n",
      "119 rejections...\n",
      "19\n",
      "109 rejections...\n",
      "20\n",
      "101 rejections...\n",
      "21\n",
      "91 rejections...\n",
      "22\n",
      "85 rejections...\n",
      "23\n",
      "76 rejections...\n",
      "24\n",
      "66 rejections...\n",
      "25\n",
      "65 rejections...\n",
      "26\n",
      "62 rejections...\n",
      "27\n",
      "57 rejections...\n",
      "28\n",
      "47 rejections...\n",
      "29\n",
      "41 rejections...\n",
      "30\n",
      "32 rejections...\n",
      "31\n",
      "31 rejections...\n",
      "32\n",
      "28 rejections...\n",
      "33\n",
      "21 rejections...\n",
      "34\n",
      "18 rejections...\n",
      "35\n",
      "17 rejections...\n",
      "36\n",
      "17 rejections...\n",
      "37\n",
      "13 rejections...\n",
      "38\n",
      "11 rejections...\n",
      "39\n",
      "11 rejections...\n",
      "40\n",
      "11 rejections...\n",
      "41\n",
      "9 rejections...\n",
      "42\n",
      "9 rejections...\n",
      "43\n",
      "9 rejections...\n",
      "44\n",
      "9 rejections...\n",
      "45\n",
      "9 rejections...\n",
      "46\n",
      "8 rejections...\n",
      "47\n",
      "8 rejections...\n",
      "48\n",
      "8 rejections...\n",
      "49\n",
      "8 rejections...\n",
      "50\n",
      "8 rejections...\n",
      "51\n",
      "8 rejections...\n",
      "52\n",
      "8 rejections...\n",
      "53\n",
      "8 rejections...\n",
      "54\n",
      "8 rejections...\n",
      "55\n",
      "7 rejections...\n",
      "56\n",
      "7 rejections...\n",
      "57\n",
      "7 rejections...\n",
      "58\n",
      "6 rejections...\n",
      "59\n",
      "6 rejections...\n",
      "60\n",
      "5 rejections...\n",
      "61\n",
      "4 rejections...\n",
      "62\n",
      "2 rejections...\n",
      "63\n",
      "2 rejections...\n",
      "64\n",
      "2 rejections...\n",
      "65\n",
      "2 rejections...\n",
      "66\n",
      "2 rejections...\n",
      "67\n",
      "2 rejections...\n",
      "68\n",
      "2 rejections...\n",
      "69\n",
      "2 rejections...\n",
      "70\n",
      "2 rejections...\n",
      "71\n",
      "2 rejections...\n",
      "72\n",
      "2 rejections...\n",
      "73\n",
      "1 rejections...\n",
      "80000 applicants and 700 colleges took 484.21821093559265 seconds\n"
     ]
    }
   ],
   "source": [
    "start = time.time()\n",
    "pairings = gale_shapley(applicant_pref, college_pref, q)\n",
    "print('{} applicants and {} colleges took {} seconds'.format(N, M, time.time()-start))"
   ]
  },
  {
   "cell_type": "markdown",
   "metadata": {},
   "source": [
    "80000 applicants and 700 colleges took 484.21821093559265 seconds"
   ]
  },
  {
   "cell_type": "code",
   "execution_count": 14,
   "metadata": {},
   "outputs": [],
   "source": [
    "applicant_outcomes = np.array([[np.where(x == orig_a[int(y)])[0][0] + 1 for y in accepted] for x, accepted in enumerate(pairings)]).flatten()"
   ]
  },
  {
   "cell_type": "code",
   "execution_count": 17,
   "metadata": {},
   "outputs": [],
   "source": [
    "counts = np.unique(applicant_outcomes, return_counts=True)"
   ]
  },
  {
   "cell_type": "code",
   "execution_count": 24,
   "metadata": {},
   "outputs": [],
   "source": [
    "counts = np.array(list(zip(counts[0], counts[1])))"
   ]
  },
  {
   "cell_type": "code",
   "execution_count": 49,
   "metadata": {},
   "outputs": [
    {
     "data": {
      "image/png": "[encoded data removed]",
      "text/plain": [
       "<Figure size 432x288 with 1 Axes>"
      ]
     },
     "metadata": {
      "needs_background": "light"
     },
     "output_type": "display_data"
    }
   ],
   "source": [
    "ax = plt.figure().gca()\n",
    "plt.hist(applicant_outcomes, edgecolor='black', align='left', bins=np.arange(1,10))\n",
    "plt.title('[simulation]\\n# choice NY Public School that applicants were paired with\\nN={}, M={}, q={}'.format(N,M,q))\n",
    "ax.xaxis.set_major_locator(MaxNLocator(integer=True))\n",
    "for i,x in counts:\n",
    "    plt.text(i, x+800, s='n={}'.format(x), size=9, horizontalalignment='center')\n",
    "plt.show()"
   ]
  },
  {
   "cell_type": "markdown",
   "metadata": {},
   "source": [
    "$\\frac{60,103}{80,000} \\approx 75\\%$ of students were accepted to their top choice.\n",
    "\n",
    "$\\frac{14,867}{80,000} \\approx 18.5\\%$ of students were accepted to their second choice.\n",
    "\n",
    "$\\frac{4,830}{80,000} \\approx 6\\%$ of students were not accepted to their top two choices."
   ]
  },
  {
   "cell_type": "code",
   "execution_count": null,
   "metadata": {},
   "outputs": [],
   "source": []
  }
 ],
 "metadata": {
  "kernelspec": {
   "display_name": "Python 3",
   "language": "python",
   "name": "python3"
  },
  "language_info": {
   "codemirror_mode": {
    "name": "ipython",
    "version": 3
   },
   "file_extension": ".py",
   "mimetype": "text/x-python",
   "name": "python",
   "nbconvert_exporter": "python",
   "pygments_lexer": "ipython3",
   "version": "3.7.0"
  }
 },
 "nbformat": 4,
 "nbformat_minor": 2
}
