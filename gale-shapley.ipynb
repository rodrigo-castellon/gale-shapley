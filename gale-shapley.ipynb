{
 "cells": [
  {
   "cell_type": "markdown",
   "metadata": {},
   "source": [
    "# Gale-Shapley Algorithm"
   ]
  },
  {
   "cell_type": "code",
   "execution_count": 1,
   "metadata": {},
   "outputs": [],
   "source": [
    "import numpy as np"
   ]
  },
  {
   "cell_type": "code",
   "execution_count": 2,
   "metadata": {},
   "outputs": [],
   "source": [
    "def gen_pref(n,m):\n",
    "    guys = np.array([np.random.permutation(m) for x in range(n)])\n",
    "    girls = np.array([np.random.permutation(n) for x in range(m)])\n",
    "    return guys, girls"
   ]
  },
  {
   "cell_type": "code",
   "execution_count": 3,
   "metadata": {},
   "outputs": [],
   "source": [
    "def find_best_guy(girl_p, guys):\n",
    "    # given a preference of guys `girl_p` and the list of guys proposing to her `guys`, return the best one\n",
    "    # could probably get a better vectorized implementation, but this suffices\n",
    "    index = np.argmin([np.where(girl_p == x)[0][0] for x in guys])\n",
    "    return index, guys[index]"
   ]
  },
  {
   "cell_type": "code",
   "execution_count": 4,
   "metadata": {},
   "outputs": [],
   "source": [
    "def flip_arr(arr):\n",
    "    # return a dict whose indices are the elements in `arr` and whose elements are the indices in `arr`\n",
    "    new_arr = {}\n",
    "    for i, x in enumerate(arr):\n",
    "        if not(x in new_arr.keys()):\n",
    "            new_arr[x] = [i]\n",
    "        else:\n",
    "            new_arr[x].append(i)\n",
    "    return new_arr"
   ]
  },
  {
   "cell_type": "code",
   "execution_count": 5,
   "metadata": {},
   "outputs": [],
   "source": [
    "def reject(guy_prefs):\n",
    "    # given a 2D array of multiple guys' preferences of girls, reject their top choices\n",
    "    n = guy_prefs.shape[0]\n",
    "    output = np.unique(np.where(guy_prefs == -1)[0], return_counts=True)\n",
    "    indices = np.zeros(n, dtype=int)\n",
    "    indices[output[0]] = output[1]\n",
    "    guy_prefs[np.arange(n), indices] = -1\n",
    "    return guy_prefs"
   ]
  },
  {
   "cell_type": "code",
   "execution_count": 6,
   "metadata": {},
   "outputs": [],
   "source": [
    "def gale_shapley(guy_pref, girl_pref):\n",
    "    n = guy_pref.shape[0]\n",
    "    m = guy_pref.shape[1]\n",
    "    best_couples = -1*np.ones(m) # flag values for all\n",
    "    while -1 in best_couples:\n",
    "        # have all guys propose to their #1 girl that is left\n",
    "        # then, girls who were proposed to accept their top offer and reject the rest\n",
    "        \n",
    "        # get all the top girls\n",
    "        output = np.unique(np.where(guy_pref == -1)[0], return_counts=True) # get how many -1s there are by row\n",
    "        indices = np.zeros(n, dtype=int)\n",
    "        indices[output[0]] = output[1]\n",
    "        girls = guy_pref[np.arange(n),indices] # this means that girls[0] is the girl guy #0 proposed to, etc.\n",
    "        \n",
    "        proposals = flip_arr(girls)\n",
    "        for girl, guys in proposals.items():\n",
    "            index, best_guy = find_best_guy(girl_pref[girl], guys)\n",
    "            best_couples[girl] = best_guy\n",
    "            # now reject the others\n",
    "            guys = np.delete(guys, index)\n",
    "            guy_pref[guys] = reject(guy_pref[guys])\n",
    "            \n",
    "    return best_couples"
   ]
  },
  {
   "cell_type": "code",
   "execution_count": 7,
   "metadata": {},
   "outputs": [],
   "source": [
    "def is_stable(guy_pref, girl_pref, couple_arrangement):\n",
    "    for girl, guy in enumerate(couple_arrangement):\n",
    "        preferred_guys = girl_pref[girl]\n",
    "        preferred_guys = preferred_guys[:np.where(preferred_guys == guy)[0][0]]\n",
    "        for guy in preferred_guys:\n",
    "            # if the guy prefers her too, then it's unstable\n",
    "            other_girl = np.where(couple_arrangement == guy)[0][0]\n",
    "            preferred_girls = guy_pref[guy]\n",
    "            preferred_girls = preferred_girls[:np.where(preferred_girls == other_girl)[0][0]]\n",
    "            if girl in preferred_girls:\n",
    "                return False\n",
    "    return True"
   ]
  },
  {
   "cell_type": "code",
   "execution_count": 8,
   "metadata": {},
   "outputs": [],
   "source": [
    "guy_pref, girl_pref = gen_pref(10,10)"
   ]
  },
  {
   "cell_type": "code",
   "execution_count": 9,
   "metadata": {},
   "outputs": [],
   "source": [
    "best_couples = gale_shapley(guy_pref, girl_pref)"
   ]
  },
  {
   "cell_type": "code",
   "execution_count": 10,
   "metadata": {},
   "outputs": [
    {
     "data": {
      "text/plain": [
       "True"
      ]
     },
     "execution_count": 10,
     "metadata": {},
     "output_type": "execute_result"
    }
   ],
   "source": [
    "is_stable(guy_pref, girl_pref, best_couples)"
   ]
  },
  {
   "cell_type": "code",
   "execution_count": 11,
   "metadata": {},
   "outputs": [
    {
     "name": "stdout",
     "output_type": "stream",
     "text": [
      "girl 0 should be with guy 1\n",
      "\tThis was girl 0's #6 choice, and it was guy 1's #6 choice.\n",
      "girl 1 should be with guy 0\n",
      "\tThis was girl 1's #5 choice, and it was guy 0's #1 choice.\n",
      "girl 2 should be with guy 2\n",
      "\tThis was girl 2's #4 choice, and it was guy 2's #3 choice.\n",
      "girl 3 should be with guy 8\n",
      "\tThis was girl 3's #3 choice, and it was guy 8's #4 choice.\n",
      "girl 4 should be with guy 3\n",
      "\tThis was girl 4's #1 choice, and it was guy 3's #1 choice.\n",
      "girl 5 should be with guy 7\n",
      "\tThis was girl 5's #1 choice, and it was guy 7's #2 choice.\n",
      "girl 6 should be with guy 6\n",
      "\tThis was girl 6's #4 choice, and it was guy 6's #2 choice.\n",
      "girl 7 should be with guy 5\n",
      "\tThis was girl 7's #1 choice, and it was guy 5's #1 choice.\n",
      "girl 8 should be with guy 4\n",
      "\tThis was girl 8's #4 choice, and it was guy 4's #2 choice.\n",
      "girl 9 should be with guy 9\n",
      "\tThis was girl 9's #6 choice, and it was guy 9's #2 choice.\n"
     ]
    }
   ],
   "source": [
    "for i, x in enumerate(best_couples):\n",
    "    x = int(x)\n",
    "    print('girl {} should be with guy {}'.format(i,x))\n",
    "    girl_choice = np.where(girl_pref[i] == x)[0][0] + 1\n",
    "    guy_choice = np.where(guy_pref[x] == i)[0][0] + 1\n",
    "    print('\\tThis was girl {}\\'s #{} choice, and it was guy {}\\'s #{} choice.'.format(i,girl_choice, x, guy_choice))"
   ]
  },
  {
   "cell_type": "code",
   "execution_count": null,
   "metadata": {},
   "outputs": [],
   "source": []
  }
 ],
 "metadata": {
  "kernelspec": {
   "display_name": "Python 3",
   "language": "python",
   "name": "python3"
  },
  "language_info": {
   "codemirror_mode": {
    "name": "ipython",
    "version": 3
   },
   "file_extension": ".py",
   "mimetype": "text/x-python",
   "name": "python",
   "nbconvert_exporter": "python",
   "pygments_lexer": "ipython3",
   "version": "3.7.0"
  }
 },
 "nbformat": 4,
 "nbformat_minor": 2
}
